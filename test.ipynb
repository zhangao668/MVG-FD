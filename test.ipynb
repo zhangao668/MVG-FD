{
 "cells": [
  {
   "cell_type": "code",
   "outputs": [],
   "source": [
    "import os\n",
    "import argparse\n",
    "import numpy as np\n",
    "import torch\n",
    "import torch.nn as nn\n",
    "import torch.optim as optim\n",
    "import torchvision.utils as utils\n",
    "import pytorch_ssim\n",
    "import  time \n",
    "from torch.autograd import Variable\n",
    "from torch.utils.data import DataLoader\n",
    "from skimage.metrics import structural_similarity as compare_ssim\n",
    "from torch.nn.modules.loss import _Loss \n",
    "from net.Ushape_Trans import *\n",
    "#from dataset import prepare_data, Dataset\n",
    "from net.utils import *\n",
    "import cv2\n",
    "import matplotlib.pyplot as plt\n",
    "from utility import plots as plots, ptcolor as ptcolor, ptutils as ptutils, data as data\n",
    "from loss.LAB import *\n",
    "from loss.LCH import *\n",
    "from torchvision.utils import save_image"
   ],
   "metadata": {
    "collapsed": false,
    "ExecuteTime": {
     "end_time": "2024-08-17T07:55:52.805641Z",
     "start_time": "2024-08-17T07:55:52.791688Z"
    }
   },
   "id": "af1c903a",
   "execution_count": 27
  },
  {
   "cell_type": "code",
   "execution_count": 28,
   "id": "8b90a2233fcbdd91",
   "metadata": {
    "collapsed": false,
    "ExecuteTime": {
     "end_time": "2024-08-17T07:55:52.821588Z",
     "start_time": "2024-08-17T07:55:52.807634Z"
    }
   },
   "outputs": [],
   "source": [
    "os.environ[\"KMP_DUPLICATE_LIB_OK\"]=\"TRUE\""
   ]
  },
  {
   "cell_type": "code",
   "execution_count": 30,
   "id": "24fccf77",
   "metadata": {
    "ExecuteTime": {
     "end_time": "2024-08-17T07:55:52.853481Z",
     "start_time": "2024-08-17T07:55:52.839527Z"
    }
   },
   "outputs": [],
   "source": [
    "def split(img):\n",
    "    output=[]\n",
    "    output.append(F.interpolate(img, scale_factor=0.125))\n",
    "    output.append(F.interpolate(img, scale_factor=0.25))\n",
    "    output.append(F.interpolate(img, scale_factor=0.5))\n",
    "    output.append(img)\n",
    "    return output"
   ]
  },
  {
   "cell_type": "code",
   "execution_count": 31,
   "id": "733afcc5",
   "metadata": {
    "ExecuteTime": {
     "end_time": "2024-08-17T07:55:52.868434Z",
     "start_time": "2024-08-17T07:55:52.854478Z"
    }
   },
   "outputs": [],
   "source": [
    "dtype = 'float32'\n",
    "os.environ[\"CUDA_VISIBLE_DEVICES\"] = '0'\n",
    "torch.set_default_tensor_type(torch.FloatTensor)"
   ]
  },
  {
   "cell_type": "code",
   "execution_count": 32,
   "id": "52453181",
   "metadata": {
    "ExecuteTime": {
     "end_time": "2024-08-17T07:55:53.502362Z",
     "start_time": "2024-08-17T07:55:52.869431Z"
    }
   },
   "outputs": [
    {
     "ename": "FileNotFoundError",
     "evalue": "[Errno 2] No such file or directory: './saved_models_uils/G/generator_800.pth'",
     "output_type": "error",
     "traceback": [
      "\u001B[1;31m---------------------------------------------------------------------------\u001B[0m",
      "\u001B[1;31mFileNotFoundError\u001B[0m                         Traceback (most recent call last)",
      "Cell \u001B[1;32mIn[32], line 3\u001B[0m\n\u001B[0;32m      1\u001B[0m \u001B[38;5;66;03m# Initialize generator \u001B[39;00m\n\u001B[0;32m      2\u001B[0m generator \u001B[38;5;241m=\u001B[39m Generator()\u001B[38;5;241m.\u001B[39mcuda()\n\u001B[1;32m----> 3\u001B[0m generator\u001B[38;5;241m.\u001B[39mload_state_dict(\u001B[43mtorch\u001B[49m\u001B[38;5;241;43m.\u001B[39;49m\u001B[43mload\u001B[49m\u001B[43m(\u001B[49m\u001B[38;5;124;43m\"\u001B[39;49m\u001B[38;5;124;43m./saved_models_uils/G/generator_800.pth\u001B[39;49m\u001B[38;5;124;43m\"\u001B[39;49m\u001B[43m)\u001B[49m)\n",
      "File \u001B[1;32mD:\\anaconda3\\envs\\ustf\\lib\\site-packages\\torch\\serialization.py:579\u001B[0m, in \u001B[0;36mload\u001B[1;34m(f, map_location, pickle_module, **pickle_load_args)\u001B[0m\n\u001B[0;32m    576\u001B[0m \u001B[38;5;28;01mif\u001B[39;00m \u001B[38;5;124m'\u001B[39m\u001B[38;5;124mencoding\u001B[39m\u001B[38;5;124m'\u001B[39m \u001B[38;5;129;01mnot\u001B[39;00m \u001B[38;5;129;01min\u001B[39;00m pickle_load_args\u001B[38;5;241m.\u001B[39mkeys():\n\u001B[0;32m    577\u001B[0m     pickle_load_args[\u001B[38;5;124m'\u001B[39m\u001B[38;5;124mencoding\u001B[39m\u001B[38;5;124m'\u001B[39m] \u001B[38;5;241m=\u001B[39m \u001B[38;5;124m'\u001B[39m\u001B[38;5;124mutf-8\u001B[39m\u001B[38;5;124m'\u001B[39m\n\u001B[1;32m--> 579\u001B[0m \u001B[38;5;28;01mwith\u001B[39;00m \u001B[43m_open_file_like\u001B[49m\u001B[43m(\u001B[49m\u001B[43mf\u001B[49m\u001B[43m,\u001B[49m\u001B[43m \u001B[49m\u001B[38;5;124;43m'\u001B[39;49m\u001B[38;5;124;43mrb\u001B[39;49m\u001B[38;5;124;43m'\u001B[39;49m\u001B[43m)\u001B[49m \u001B[38;5;28;01mas\u001B[39;00m opened_file:\n\u001B[0;32m    580\u001B[0m     \u001B[38;5;28;01mif\u001B[39;00m _is_zipfile(opened_file):\n\u001B[0;32m    581\u001B[0m         \u001B[38;5;66;03m# The zipfile reader is going to advance the current file position.\u001B[39;00m\n\u001B[0;32m    582\u001B[0m         \u001B[38;5;66;03m# If we want to actually tail call to torch.jit.load, we need to\u001B[39;00m\n\u001B[0;32m    583\u001B[0m         \u001B[38;5;66;03m# reset back to the original position.\u001B[39;00m\n\u001B[0;32m    584\u001B[0m         orig_position \u001B[38;5;241m=\u001B[39m opened_file\u001B[38;5;241m.\u001B[39mtell()\n",
      "File \u001B[1;32mD:\\anaconda3\\envs\\ustf\\lib\\site-packages\\torch\\serialization.py:230\u001B[0m, in \u001B[0;36m_open_file_like\u001B[1;34m(name_or_buffer, mode)\u001B[0m\n\u001B[0;32m    228\u001B[0m \u001B[38;5;28;01mdef\u001B[39;00m \u001B[38;5;21m_open_file_like\u001B[39m(name_or_buffer, mode):\n\u001B[0;32m    229\u001B[0m     \u001B[38;5;28;01mif\u001B[39;00m _is_path(name_or_buffer):\n\u001B[1;32m--> 230\u001B[0m         \u001B[38;5;28;01mreturn\u001B[39;00m \u001B[43m_open_file\u001B[49m\u001B[43m(\u001B[49m\u001B[43mname_or_buffer\u001B[49m\u001B[43m,\u001B[49m\u001B[43m \u001B[49m\u001B[43mmode\u001B[49m\u001B[43m)\u001B[49m\n\u001B[0;32m    231\u001B[0m     \u001B[38;5;28;01melse\u001B[39;00m:\n\u001B[0;32m    232\u001B[0m         \u001B[38;5;28;01mif\u001B[39;00m \u001B[38;5;124m'\u001B[39m\u001B[38;5;124mw\u001B[39m\u001B[38;5;124m'\u001B[39m \u001B[38;5;129;01min\u001B[39;00m mode:\n",
      "File \u001B[1;32mD:\\anaconda3\\envs\\ustf\\lib\\site-packages\\torch\\serialization.py:211\u001B[0m, in \u001B[0;36m_open_file.__init__\u001B[1;34m(self, name, mode)\u001B[0m\n\u001B[0;32m    210\u001B[0m \u001B[38;5;28;01mdef\u001B[39;00m \u001B[38;5;21m__init__\u001B[39m(\u001B[38;5;28mself\u001B[39m, name, mode):\n\u001B[1;32m--> 211\u001B[0m     \u001B[38;5;28msuper\u001B[39m(_open_file, \u001B[38;5;28mself\u001B[39m)\u001B[38;5;241m.\u001B[39m\u001B[38;5;21m__init__\u001B[39m(\u001B[38;5;28;43mopen\u001B[39;49m\u001B[43m(\u001B[49m\u001B[43mname\u001B[49m\u001B[43m,\u001B[49m\u001B[43m \u001B[49m\u001B[43mmode\u001B[49m\u001B[43m)\u001B[49m)\n",
      "\u001B[1;31mFileNotFoundError\u001B[0m: [Errno 2] No such file or directory: './saved_models_uils/G/generator_800.pth'"
     ]
    }
   ],
   "source": [
    "\n",
    "generator = Generator().cuda()\n",
    "generator.load_state_dict(torch.load(\"./saved_models_uils/G/generator_800.pth\"))"
   ]
  },
  {
   "cell_type": "code",
   "execution_count": null,
   "id": "8314e271",
   "metadata": {
    "ExecuteTime": {
     "start_time": "2024-08-17T07:55:53.504356Z"
    }
   },
   "outputs": [],
   "source": [
    "generator.eval()"
   ]
  },
  {
   "cell_type": "code",
   "outputs": [],
   "source": [
    "\n",
    "path= 'F:/Test-Output/ComparisonResults/input/input/'#要改\n",
    "path_list = os.listdir(path)\n",
    "# print(path_list)\n",
    "path_list.sort(key=lambda x:int(x.split('.')[0]))\n",
    "\n",
    "\n",
    "pathd= 'F:/Test-Output/ComparisonResults/input/U90-D/'#要改\n",
    "pathd_list = os.listdir(pathd)\n",
    "# print(pathd_list)\n",
    "pathd_list.sort(key=lambda x:int(x.split('.')[0]))\n",
    "\n",
    "i=1\n",
    "for item,itemd in zip(path_list ,pathd_list):\n",
    "    \n",
    "    impath=path+item\n",
    "    impathd = pathd + itemd\n",
    "    # print(impath)\n",
    "    imgx= cv2.imread(path+item)\n",
    "    imgx= cv2.imread(impath)\n",
    "    imgx=cv2.resize(imgx,(256,256))\n",
    "    imgx = cv2.cvtColor(imgx, cv2.COLOR_BGR2RGB)\n",
    "    imgx = np.array(imgx).astype(dtype)\n",
    "    \n",
    "    imgd= cv2.imread(pathd+itemd)\n",
    "    # imgx= cv2.imread(impath)\n",
    "    imgd=cv2.resize(imgd,(256,256))\n",
    "    imgd = cv2.cvtColor(imgd, cv2.COLOR_BGR2RGB)\n",
    "    imgd = np.array(imgd).astype(dtype)\n",
    "\n",
    "    imgx= torch.from_numpy(imgx)\n",
    "    imgx=imgx.permute(2,0,1).unsqueeze(0)\n",
    "    imgx=imgx/255.0\n",
    "    #plt.imshow(imgx[0,:,:,:])\n",
    "    #plt.show()\n",
    "    imgx = Variable(imgx).cuda()\n",
    "    #print(imgx.shape)\n",
    "    \n",
    "    imgd= torch.from_numpy(imgd)\n",
    "    imgd=imgd.permute(2,0,1).unsqueeze(0)\n",
    "    imgd=imgd/255.0\n",
    "    #plt.imshow(imgx[0,:,:,:])\n",
    "    #plt.show()\n",
    "    imgd = Variable(imgd).cuda()\n",
    "    #print(imgx.shape)\n",
    "    \n",
    "    output=generator(imgx,imgd)\n",
    "    out=output[3].data\n",
    "\n",
    "    save_image(out,'F:/Test-Output/ComparisonResults/input/output/'+item, nrow=5, normalize=True)\n",
    "    i=i+1\n"
   ],
   "metadata": {
    "collapsed": false
   },
   "id": "7f2f0811404cefa6",
   "execution_count": null
  },
  {
   "cell_type": "code",
   "execution_count": null,
   "id": "e3c61990",
   "metadata": {
    "ExecuteTime": {
     "start_time": "2024-08-17T07:55:53.506350Z"
    }
   },
   "outputs": [],
   "source": [
    "def compute_psnr(img1, img2):\n",
    "   mse = np.mean( (img1/255. - img2/255.) ** 2 )\n",
    "   if mse < 1.0e-10:\n",
    "      return 100\n",
    "   PIXEL_MAX = 1\n",
    "   return 20 * math.log10(PIXEL_MAX / math.sqrt(mse))\n",
    "\n",
    "def compute_mse(img1,img2):\n",
    "    mse=np.mean( (img1/255. - img2/255.) ** 2 )\n",
    "    return mse\n",
    "\n"
   ]
  },
  {
   "cell_type": "code",
   "outputs": [],
   "source": [
    "from scipy import ndimage\n",
    "from PIL import Image\n",
    "import numpy as np\n",
    "import math"
   ],
   "metadata": {
    "collapsed": false,
    "ExecuteTime": {
     "start_time": "2024-08-17T07:55:53.507346Z"
    }
   },
   "id": "5643170dbb73c9f2",
   "execution_count": null
  },
  {
   "cell_type": "code",
   "outputs": [],
   "source": [
    "\n",
    "\n",
    "def _uiconm(x, window_size):\n",
    "\n",
    "    plip_lambda = 1026.0\n",
    "    plip_gamma  = 1026.0\n",
    "    plip_beta   = 1.0\n",
    "    plip_mu     = 1026.0\n",
    "    plip_k      = 1026.0\n",
    "    # if 4 blocks, then 2x2...etc.\n",
    "    k1 = x.shape[1]/window_size\n",
    "    k2 = x.shape[0]/window_size\n",
    "    # weight\n",
    "    w = -1./(k1*k2)\n",
    "    blocksize_x = window_size\n",
    "    blocksize_y = window_size\n",
    "    # make sure image is divisible by window_size - doesn't matter if we cut out some pixels\n",
    "    x = x[0:int(blocksize_y*k2), 0:int(blocksize_x*k1)]\n",
    "    # entropy scale - higher helps with randomness\n",
    "    alpha = 1\n",
    "    val = 0\n",
    "    k1 = int(k1)\n",
    "    k2 = int(k2)\n",
    "    for l in range(k1):\n",
    "        for k in range(k2):\n",
    "            block = x[k*window_size:window_size*(k+1), l*window_size:window_size*(l+1), :]\n",
    "            max_ = np.max(block)\n",
    "            min_ = np.min(block)\n",
    "            top = max_-min_\n",
    "            bot = max_+min_\n",
    "            if math.isnan(top) or math.isnan(bot) or bot == 0.0 or top == 0.0: val += 0.0\n",
    "            else: val += alpha*math.pow((top/bot),alpha) * math.log(top/bot)\n",
    "            #try: val += plip_multiplication((top/bot),math.log(top/bot))\n",
    "    return w*val\n",
    "\n",
    "def mu_a(x, alpha_L=0.1, alpha_R=0.1):\n",
    "    \"\"\"\n",
    "      Calculates the asymetric alpha-trimmed mean\n",
    "    \"\"\"\n",
    "    # sort pixels by intensity - for clipping\n",
    "    x = sorted(x)\n",
    "    # get number of pixels\n",
    "    K = len(x)\n",
    "    # calculate T alpha L and T alpha R\n",
    "    T_a_L = math.ceil(alpha_L*K)\n",
    "    T_a_R = math.floor(alpha_R*K)\n",
    "    # calculate mu_alpha weight\n",
    "    weight = (1/(K-T_a_L-T_a_R))\n",
    "    # loop through flattened image starting at T_a_L+1 and ending at K-T_a_R\n",
    "    s   = int(T_a_L+1)\n",
    "    e   = int(K-T_a_R)\n",
    "    val = sum(x[s:e])\n",
    "    val = weight*val\n",
    "    return val\n",
    "\n",
    "def s_a(x, mu):\n",
    "    val = 0\n",
    "    for pixel in x:\n",
    "        val += math.pow((pixel-mu), 2)\n",
    "    return val/len(x)\n",
    "\n",
    "\n",
    "def _uicm(x):\n",
    "    R = x[:,:,0].flatten()\n",
    "    G = x[:,:,1].flatten()\n",
    "    B = x[:,:,2].flatten()\n",
    "    RG = R-G\n",
    "    YB = ((R+G)/2)-B\n",
    "    mu_a_RG = mu_a(RG)\n",
    "    mu_a_YB = mu_a(YB)\n",
    "    s_a_RG = s_a(RG, mu_a_RG)\n",
    "    s_a_YB = s_a(YB, mu_a_YB)\n",
    "    l = math.sqrt( (math.pow(mu_a_RG,2)+math.pow(mu_a_YB,2)) )\n",
    "    r = math.sqrt(s_a_RG+s_a_YB)\n",
    "    return (-0.0268*l)+(0.1586*r)\n",
    "\n",
    "\n",
    "def sobel(x):\n",
    "    dx = ndimage.sobel(x,0)\n",
    "    dy = ndimage.sobel(x,1)\n",
    "    mag = np.hypot(dx, dy)\n",
    "    mag *= 255.0 / np.max(mag) \n",
    "    return mag\n",
    "\n",
    "def _uism(x):\n",
    "    \"\"\"\n",
    "      Underwater Image Sharpness Measure\n",
    "    \"\"\"\n",
    "    # get image channels\n",
    "    R = x[:,:,0]\n",
    "    G = x[:,:,1]\n",
    "    B = x[:,:,2]\n",
    "    # first apply Sobel edge detector to each RGB component\n",
    "    Rs = sobel(R)\n",
    "    Gs = sobel(G)\n",
    "    Bs = sobel(B)\n",
    "    # multiply the edges detected for each channel by the channel itself\n",
    "    R_edge_map = np.multiply(Rs, R)\n",
    "    G_edge_map = np.multiply(Gs, G)\n",
    "    B_edge_map = np.multiply(Bs, B)\n",
    "    # get eme for each channel\n",
    "    r_eme = eme(R_edge_map, 10)\n",
    "    g_eme = eme(G_edge_map, 10)\n",
    "    b_eme = eme(B_edge_map, 10)\n",
    "    # coefficients\n",
    "    lambda_r = 0.299\n",
    "    lambda_g = 0.587\n",
    "    lambda_b = 0.144\n",
    "    return (lambda_r*r_eme) + (lambda_g*g_eme) + (lambda_b*b_eme)\n",
    "\n",
    "\n",
    "def eme(x, window_size):\n",
    "    \"\"\"\n",
    "      Enhancement measure estimation\n",
    "      x.shape[0] = height\n",
    "      x.shape[1] = width\n",
    "    \"\"\"\n",
    "    # if 4 blocks, then 2x2...etc.\n",
    "    k1 = x.shape[1]/window_size\n",
    "    k2 = x.shape[0]/window_size\n",
    "    # weight\n",
    "    w = 2./(k1*k2)\n",
    "    blocksize_x = window_size\n",
    "    blocksize_y = window_size\n",
    "    # make sure image is divisible by window_size - doesn't matter if we cut out some pixels\n",
    "    x = x[0:int(blocksize_y*k2), 0:int(blocksize_x*k1)]\n",
    "    val = 0\n",
    "    k1 = int(k1)\n",
    "    k2 = int(k2)\n",
    "    for l in range(k1):\n",
    "        for k in range(k2):\n",
    "            block = x[k*window_size:window_size*(k+1), l*window_size:window_size*(l+1)]\n",
    "            max_ = np.max(block)\n",
    "            min_ = np.min(block)\n",
    "            # bound checks, can't do log(0)\n",
    "            if min_ == 0.0: val += 0\n",
    "            elif max_ == 0.0: val += 0\n",
    "            else: val += math.log(max_/min_)\n",
    "    return w*val\n",
    "\n",
    "\n",
    "\n",
    "def calculate_uiqm(x):\n",
    "    \"\"\"\n",
    "      Function to return UIQM to be called from other programs\n",
    "      x: image\n",
    "    \"\"\"\n",
    "    x = x.astype(np.float32)\n",
    "\n",
    "    c1 = 0.0282; c2 = 0.2953; c3 = 3.5753\n",
    "    uicm   = _uicm(x)\n",
    "    uism   = _uism(x)\n",
    "    uiconm = _uiconm(x, 10)\n",
    "    uiqm = (c1*uicm) + (c2*uism) + (c3*uiconm)\n",
    "    return uiqm"
   ],
   "metadata": {
    "collapsed": false,
    "ExecuteTime": {
     "start_time": "2024-08-17T07:55:53.508343Z"
    }
   },
   "id": "6a815a145f91bb27",
   "execution_count": null
  },
  {
   "cell_type": "code",
   "outputs": [],
   "source": [
    "\n",
    "import cv2\n"
   ],
   "metadata": {
    "collapsed": false,
    "ExecuteTime": {
     "start_time": "2024-08-17T07:55:53.510336Z"
    }
   },
   "id": "97d529434d267edf",
   "execution_count": null
  },
  {
   "cell_type": "code",
   "outputs": [],
   "source": [
    "\n",
    "\n",
    "def getUCIQE(img):\n",
    "    img_BGR = img\n",
    "    img_LAB = cv2.cvtColor(img_BGR, cv2.COLOR_BGR2LAB) \n",
    "    img_LAB = np.array(img_LAB,dtype=np.float64)\n",
    "    # Trained coefficients are c1=0.4680, c2=0.2745, c3=0.2576 according to paper.\n",
    "    coe_Metric = [0.4680, 0.2745, 0.2576]\n",
    "    \n",
    "    # img_lum = img_LAB[:,:,0]/255.0\n",
    "    # img_a = img_LAB[:,:,1]/255.0\n",
    "    # img_b = img_LAB[:,:,2]/255.0\n",
    "    \n",
    "    img_lum = img_LAB[:,:,0] / 100.0\n",
    "    img_a = (img_LAB[:,:,1] - 128) / 127.0\n",
    "    img_b = (img_LAB[:,:,2] - 128) / 127.0\n",
    "\n",
    "    # item-1\n",
    "    chroma = np.sqrt(np.square(img_a)+np.square(img_b))\n",
    "    sigma_c = np.std(chroma)\n",
    "\n",
    "    # item-2\n",
    "    img_lum = img_lum.flatten()\n",
    "    sorted_index = np.argsort(img_lum)\n",
    "    top_index = sorted_index[int(len(img_lum)*0.99)]\n",
    "    bottom_index = sorted_index[int(len(img_lum)*0.01)]\n",
    "    con_lum = img_lum[top_index] - img_lum[bottom_index]\n",
    "\n",
    "    # item-3\n",
    "    chroma = chroma.flatten()\n",
    "    sat = np.divide(chroma, img_lum, out=np.zeros_like(chroma, dtype=np.float64), where=img_lum!=0)\n",
    "    avg_sat = np.mean(sat)\n",
    "\n",
    "    uciqe = sigma_c*coe_Metric[0] + con_lum*coe_Metric[1] + avg_sat*coe_Metric[2]\n",
    "    return uciqe\n",
    "\n",
    "\n"
   ],
   "metadata": {
    "collapsed": false,
    "ExecuteTime": {
     "start_time": "2024-08-17T07:55:53.511333Z"
    }
   },
   "id": "9894c72ec57b03a3",
   "execution_count": null
  },
  {
   "cell_type": "markdown",
   "source": [],
   "metadata": {
    "collapsed": false
   },
   "id": "fbf7dce344820fe3"
  },
  {
   "cell_type": "code",
   "execution_count": null,
   "id": "9742ccd4",
   "metadata": {
    "ExecuteTime": {
     "start_time": "2024-08-17T07:55:53.512330Z"
    }
   },
   "outputs": [],
   "source": [
    "\n",
    "\n",
    "\n",
    "path1='E:/DataSet/LSUI/Test-L400/GT/'#要改\n",
    "path2=\"E:/DataSet/LSUI/Test-L400/output/\"#要改\n",
    "path_list = os.listdir(path1)\n",
    "path_list.sort(key=lambda x:int(x.split('.')[0]))\n",
    "PSNR = []\n",
    "SSIM = []\n",
    "MSE=[]\n",
    "UIQM=[]\n",
    "UCIQE=[]\n",
    "\n",
    "for item in path_list:\n",
    "    impath1=path1+item\n",
    "    impath2=path2+item\n",
    "    # print(impath2)\n",
    "    imgx= cv2.imread(impath1)\n",
    "    # print(impath1)\n",
    "    imgx=cv2.resize(imgx,(256,256))\n",
    "      \n",
    "    imgy= cv2.imread(impath2)\n",
    "    if imgy is None:\n",
    "        print(\"Error: Could not load image. Please check the file path.\")\n",
    "    imgy=cv2.resize(imgy,(256,256))\n",
    "\n",
    "    \n",
    "    #print(imgx.shape)\n",
    "    psnr1=compute_psnr(imgx[:,:,0],imgy[:,:,0])\n",
    "    psnr2=compute_psnr(imgx[:,:,1],imgy[:,:,1])\n",
    "    psnr3=compute_psnr(imgx[:,:,2],imgy[:,:,2])\n",
    "    \n",
    "    psnr=(psnr1+psnr2+psnr3)/3.0\n",
    "\n",
    "    \n",
    "    mse=compute_mse(imgx,imgy)\n",
    "    \n",
    "    uiqm=calculate_uiqm(imgy)\n",
    "    \n",
    "    # uciqe=calculate_uciqe(imgy)\n",
    "    uciqe = getUCIQE(imgy)\n",
    "    \n",
    "    print(impath1)\n",
    "    \n",
    "    print(psnr)\n",
    "\n",
    "    print(mse)\n",
    "    print(uiqm)\n",
    "    print(uciqe)\n",
    "    \n",
    "\n",
    "\n",
    "    PSNR.append(psnr)\n",
    "    \n",
    "    MSE.append(mse)\n",
    "    \n",
    "    UIQM.append(uiqm)\n",
    "    \n",
    "    UCIQE.append(uciqe)\n",
    "    \n"
   ]
  },
  {
   "cell_type": "markdown",
   "source": [],
   "metadata": {
    "collapsed": false
   },
   "id": "3a03fdd20d57d0bb"
  },
  {
   "cell_type": "code",
   "execution_count": null,
   "id": "800615b8",
   "metadata": {},
   "outputs": [],
   "source": [
    "PSNR=np.array(PSNR)    \n",
    "print(\"PSNR:\",PSNR.mean())\n"
   ]
  },
  {
   "cell_type": "code",
   "outputs": [],
   "source": [
    "UIQM=np.array(UIQM)    \n",
    "print(\"UIQM:\",UIQM.mean())"
   ],
   "metadata": {
    "collapsed": false,
    "ExecuteTime": {
     "start_time": "2024-08-17T07:55:53.515319Z"
    }
   },
   "id": "c9f8ed59f7c917bc",
   "execution_count": null
  },
  {
   "cell_type": "code",
   "outputs": [],
   "source": [
    "UCIQE=np.array(UCIQE)    \n",
    "print(\"UCIQE:\",UCIQE.mean())"
   ],
   "metadata": {
    "collapsed": false,
    "ExecuteTime": {
     "start_time": "2024-08-17T07:55:53.516316Z"
    }
   },
   "id": "caf30c10d61d984f",
   "execution_count": null
  },
  {
   "cell_type": "code",
   "execution_count": null,
   "id": "652135ca",
   "metadata": {
    "ExecuteTime": {
     "start_time": "2024-08-17T07:55:53.518309Z"
    }
   },
   "outputs": [],
   "source": [
    "\n"
   ]
  },
  {
   "cell_type": "code",
   "execution_count": null,
   "id": "16b71a50",
   "metadata": {},
   "outputs": [],
   "source": []
  },
  {
   "cell_type": "code",
   "execution_count": null,
   "id": "be831848",
   "metadata": {
    "ExecuteTime": {
     "start_time": "2024-08-17T07:55:53.521299Z"
    }
   },
   "outputs": [],
   "source": []
  },
  {
   "cell_type": "code",
   "execution_count": null,
   "id": "71ce6611",
   "metadata": {
    "ExecuteTime": {
     "start_time": "2024-08-17T07:55:53.522296Z"
    }
   },
   "outputs": [],
   "source": []
  }
 ],
 "metadata": {
  "kernelspec": {
   "display_name": "Python 3 (ipykernel)",
   "language": "python",
   "name": "python3"
  },
  "language_info": {
   "codemirror_mode": {
    "name": "ipython",
    "version": 3
   },
   "file_extension": ".py",
   "mimetype": "text/x-python",
   "name": "python",
   "nbconvert_exporter": "python",
   "pygments_lexer": "ipython3",
   "version": "3.7.11"
  }
 },
 "nbformat": 4,
 "nbformat_minor": 5
}
